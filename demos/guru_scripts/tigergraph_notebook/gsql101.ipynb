USING OLD pyTigerGraph Version 0.5.0


{
  "nbformat": 4,
  "nbformat_minor": 0,
  "metadata": {
    "kernelspec": {
      "display_name": "Python 3",
      "language": "python",
      "name": "python3"
    },
    "language_info": {
      "codemirror_mode": {
        "name": "ipython",
        "version": 3
      },
      "file_extension": ".py",
      "mimetype": "text/x-python",
      "name": "python",
      "nbconvert_exporter": "python",
      "pygments_lexer": "ipython3",
      "version": "3.7.7"
    },
    "toc": {
      "base_numbering": 1,
      "nav_menu": {},
      "number_sections": false,
      "sideBar": true,
      "skip_h1_title": false,
      "title_cell": "Table of Contents",
      "title_sidebar": "Contents",
      "toc_cell": false,
      "toc_position": {},
      "toc_section_display": true,
      "toc_window_display": false
    },
    "colab": {
      "name": "gsql101.ipynb",
      "provenance": [],
      "collapsed_sections": [],
      "include_colab_link": true
    }
  },
  "cells": [
    {
      "cell_type": "markdown",
      "metadata": {
        "id": "view-in-github",
        "colab_type": "text"
      },
      "source": [
        "<a href=\"https://colab.research.google.com/github/yaniv256/ecosys/blob/master/demos/guru_scripts/tigergraph_notebook/gsql101.ipynb\" target=\"_parent\"><img src=\"https://colab.research.google.com/assets/colab-badge.svg\" alt=\"Open In Colab\"/></a>"
      ]
    },
    {
      "cell_type": "markdown",
      "metadata": {
        "id": "sIdweWQSk25O",
        "colab_type": "text"
      },
      "source": [
        "# GSQL101 - on a Colab Notebook"
      ]
    },
    {
      "cell_type": "markdown",
      "metadata": {
        "id": "LXpx_L7PqQgo",
        "colab_type": "text"
      },
      "source": [
        "## Establish a connection to a TigerGraph server"
      ]
    },
    {
      "cell_type": "markdown",
      "metadata": {
        "id": "okWA1NYJqUVX",
        "colab_type": "text"
      },
      "source": [
        "### Start a [TigerGraph server](https://www.tigergraph.com/cloud/)"
      ]
    },
    {
      "cell_type": "code",
      "metadata": {
        "id": "VZB-lMkPAqxK",
        "colab_type": "code",
        "colab": {
          "base_uri": "https://localhost:8080/",
          "height": 524
        },
        "outputId": "9800f1c8-0f39-4889-fe2d-fe2a247a9789"
      },
      "source": [
        "from IPython.display import YouTubeVideo\n",
        "\n",
        "YouTubeVideo(width=896, height=504, id='JARd9ULRP_I')"
      ],
      "execution_count": null,
      "outputs": [
        {
          "output_type": "execute_result",
          "data": {
            "text/html": [
              "\n",
              "        <iframe\n",
              "            width=\"896\"\n",
              "            height=\"504\"\n",
              "            src=\"https://www.youtube.com/embed/JARd9ULRP_I\"\n",
              "            frameborder=\"0\"\n",
              "            allowfullscreen\n",
              "        ></iframe>\n",
              "        "
            ],
            "text/plain": [
              "<IPython.lib.display.YouTubeVideo at 0x7fecd6061400>"
            ],
            "image/jpeg": "[encoded data removed]"
          },
          "metadata": {
            "tags": []
          },
          "execution_count": 1
        }
      ]
    },
    {
      "cell_type": "markdown",
      "metadata": {
        "id": "17LC4XRDBUCO",
        "colab_type": "text"
      },
      "source": [
        "## Enter your server's ip address and password into the input boxes"
      ]
    },
    {
      "cell_type": "code",
      "metadata": {
        "id": "QU66klikk25P",
        "colab_type": "code",
        "colab": {
          "base_uri": "https://localhost:8080/",
          "height": 34
        },
        "outputId": "b047ed8b-d5b7-44f7-97df-3a856497d57d"
      },
      "source": [
        "server_ip = input()"
      ],
      "execution_count": null,
      "outputs": [
        {
          "output_type": "stream",
          "text": [
            "yaniv.i.tgcloud.io\n"
          ],
          "name": "stdout"
        }
      ]
    },
    {
      "cell_type": "code",
      "metadata": {
        "id": "94CPhylck25Z",
        "colab_type": "code",
        "colab": {
          "base_uri": "https://localhost:8080/",
          "height": 34
        },
        "outputId": "338cf808-13dc-4c70-a2b6-716b2ea706a5"
      },
      "source": [
        "import getpass\n",
        "\n",
        "password = getpass.getpass()"
      ],
      "execution_count": null,
      "outputs": [
        {
          "output_type": "stream",
          "text": [
            "··········\n"
          ],
          "name": "stdout"
        }
      ]
    },
    {
      "cell_type": "markdown",
      "metadata": {
        "id": "3mNUgoBok25c",
        "colab_type": "text"
      },
      "source": [
        "### Download a certificate from the server"
      ]
    },
    {
      "cell_type": "code",
      "metadata": {
        "id": "ba82VIeAk25d",
        "colab_type": "code",
        "colab": {
          "base_uri": "https://localhost:8080/",
          "height": 34
        },
        "outputId": "30a0a6db-1c8d-4d21-b4db-6cbcbd9ee349"
      },
      "source": [
        "!openssl s_client -connect $server_ip:14240 < /dev/null 2> /dev/null | openssl x509 -text > my-cert.txt\n",
        "!ls -l my-cert.txt"
      ],
      "execution_count": null,
      "outputs": [
        {
          "output_type": "stream",
          "text": [
            "-rw-r--r-- 1 root root 8518 Jun 22 13:17 my-cert.txt\n"
          ],
          "name": "stdout"
        }
      ]
    },
    {
      "cell_type": "markdown",
      "metadata": {
        "id": "AgNIHSNHk25g",
        "colab_type": "text"
      },
      "source": [
        "### Download the GSQL client java tar file"
      ]
    },
    {
      "cell_type": "code",
      "metadata": {
        "id": "fCyv554bk25g",
        "colab_type": "code",
        "colab": {
          "base_uri": "https://localhost:8080/",
          "height": 34
        },
        "outputId": "049f6b65-81c6-455d-c074-af35cd18e5cd"
      },
      "source": [
        "import urllib.request\n",
        "\n",
        "client_version = '2.6.0'\n",
        "\n",
        "jar_url = ('https://bintray.com/api/ui/download/tigergraphecosys/tgjars/' \n",
        "           + 'com/tigergraph/client/gsql_client/' + client_version \n",
        "           + '/gsql_client-' + client_version + '.jar')\n",
        "           \n",
        "urllib.request.urlretrieve(jar_url, 'gsql_client.jar')\n",
        "\n",
        "!ls -l gsql_client.jar"
      ],
      "execution_count": null,
      "outputs": [
        {
          "output_type": "stream",
          "text": [
            "-rw-r--r-- 1 root root 671144 Jun 22 13:17 gsql_client.jar\n"
          ],
          "name": "stdout"
        }
      ]
    },
    {
      "cell_type": "markdown",
      "metadata": {
        "id": "jVNr4V5mCMkz",
        "colab_type": "text"
      },
      "source": [
        "If not running on Colab you need to have the Java JDK runtime installed. You can download it from Oracle's [download page](https://www.oracle.com/java/technologies/javase-downloads.html)."
      ]
    },
    {
      "cell_type": "markdown",
      "metadata": {
        "id": "RrGuKsNxk25j",
        "colab_type": "text"
      },
      "source": [
        "### Define a function to handle input and output to the GSQL client "
      ]
    },
    {
      "cell_type": "code",
      "metadata": {
        "id": "SaMNELaok25j",
        "colab_type": "code",
        "colab": {}
      },
      "source": [
        "import subprocess, yaml, re\n",
        "\n",
        "def gsql(query, options=['-g','social']):\n",
        "\n",
        "    cmd = ['java', '-DGSQL_CLIENT_VERSION=v2_6_0', '-jar', 'gsql_client.jar',\n",
        "       '-cacert', 'my-cert.txt', '-u', 'tigergraph', '-p', password, \n",
        "       '-ip', server_ip]\n",
        "\n",
        "    comp = subprocess.run(cmd + options + [query], \n",
        "                          stdout=subprocess.PIPE).stdout.decode()\n",
        "    \n",
        "    try:\n",
        "        json_string = re.search('(\\{|\\[).*$',comp.replace('\\n',''))[0]\n",
        "        json_object = yaml.safe_load(json_string)\n",
        "    except:\n",
        "        print(comp)\n",
        "        return\n",
        "    else:\n",
        "        return json_object"
      ],
      "execution_count": null,
      "outputs": []
    },
    {
      "cell_type": "markdown",
      "metadata": {
        "id": "FmFUHnDGk25n",
        "colab_type": "text"
      },
      "source": [
        "## Set up the graph"
      ]
    },
    {
      "cell_type": "markdown",
      "metadata": {
        "id": "sy6k9Sprk25V",
        "colab_type": "text"
      },
      "source": [
        "### Make sure your server is running properly by logging in to TigerStudio\n",
        "You will need this to upload your data files."
      ]
    },
    {
      "cell_type": "code",
      "metadata": {
        "id": "Z501zEfNk25V",
        "colab_type": "code",
        "colab": {
          "base_uri": "https://localhost:8080/",
          "height": 34
        },
        "outputId": "b2085c97-e07b-4ec9-813f-7d6edf420228"
      },
      "source": [
        "print('https://' + server_ip + ':14240') "
      ],
      "execution_count": null,
      "outputs": [
        {
          "output_type": "stream",
          "text": [
            "https://yaniv.i.tgcloud.io:14240\n"
          ],
          "name": "stdout"
        }
      ]
    },
    {
      "cell_type": "markdown",
      "metadata": {
        "id": "eiBosRXNk25n",
        "colab_type": "text"
      },
      "source": [
        "### Use TigerStudio to upload data files to server\n",
        "\n",
        "Run the these cells. If you're runing the notebook on Colab, download the csv files using the folder icon on the left. Go to GraphStudio and select `Map Data to Graph` and `Add data file`. Upload the csv files. After uploading you can hit `Cancel`, as the files are already on the server. You only need to do this once."
      ]
    },
    {
      "cell_type": "code",
      "metadata": {
        "id": "X_Nz-dVTk25o",
        "colab_type": "code",
        "colab": {
          "base_uri": "https://localhost:8080/",
          "height": 34
        },
        "outputId": "1e6c24ad-57e6-4033-86f9-92737b5ded86"
      },
      "source": [
        "%%writefile person.csv\n",
        "name,gender,age,state\n",
        "Tom,male,40,ca\n",
        "Dan,male,34,ny\n",
        "Jenny,female,25,tx\n",
        "Kevin,male,28,az\n",
        "Amily,female,22,ca\n",
        "Nancy,female,20,ky\n",
        "Jack,male,26,fl"
      ],
      "execution_count": null,
      "outputs": [
        {
          "output_type": "stream",
          "text": [
            "Overwriting person.csv\n"
          ],
          "name": "stdout"
        }
      ]
    },
    {
      "cell_type": "code",
      "metadata": {
        "id": "qEiWKZEFk25q",
        "colab_type": "code",
        "colab": {
          "base_uri": "https://localhost:8080/",
          "height": 34
        },
        "outputId": "cf8eed80-c9bd-4330-d1f6-67651631dd8e"
      },
      "source": [
        "%%writefile friendship.csv\n",
        "person1,person2,date\n",
        "Tom,Dan,2017-06-03\n",
        "Tom,Jenny,2015-01-01\n",
        "Dan,Jenny,2016-08-03\n",
        "Jenny,Amily,2015-06-08\n",
        "Dan,Nancy,2016-01-03\n",
        "Nancy,Jack,2017-03-02\n",
        "Dan,Kevin,2015-12-30"
      ],
      "execution_count": null,
      "outputs": [
        {
          "output_type": "stream",
          "text": [
            "Overwriting friendship.csv\n"
          ],
          "name": "stdout"
        }
      ]
    },
    {
      "cell_type": "markdown",
      "metadata": {
        "id": "rHsErjExk25u",
        "colab_type": "text"
      },
      "source": [
        "### Clear the graph"
      ]
    },
    {
      "cell_type": "code",
      "metadata": {
        "id": "KMWCtajBk25v",
        "colab_type": "code",
        "colab": {
          "base_uri": "https://localhost:8080/",
          "height": 247
        },
        "outputId": "d2e7eb70-4271-42d0-a7c0-0248ba196b91"
      },
      "source": [
        "gsql('drop all', options=[])"
      ],
      "execution_count": null,
      "outputs": [
        {
          "output_type": "stream",
          "text": [
            "========================\n",
            "Trying version: v2_6_0\n",
            "Connecting to yaniv.i.tgcloud.io\n",
            "If there is any relative path, it is relative to tigergraph/dev/gdk/gsql\n",
            "Dropping all, about 1 minute ...\n",
            "Abort all active loading jobs\n",
            "Try to abort all loading jobs on graph social, it may take a while ...\n",
            "[ABORT_SUCCESS] No active Loading Job to abort.\n",
            "\n",
            "Shutdown restpp gse gpe ...\n",
            "Graph store /home/tigergraph/tigergraph/gstore/0/ has been cleared!\n",
            "Everything is dropped.\n",
            "\n"
          ],
          "name": "stdout"
        }
      ]
    },
    {
      "cell_type": "markdown",
      "metadata": {
        "id": "FzBSHIjfk25x",
        "colab_type": "text"
      },
      "source": [
        "### Create the graph schema\n",
        "\n",
        "See [GSQL 101 - Module 1: Graph Schema](https://youtu.be/him2Uy3Nn7Y)\n"
      ]
    },
    {
      "cell_type": "code",
      "metadata": {
        "id": "nN05blvDk25x",
        "colab_type": "code",
        "colab": {
          "base_uri": "https://localhost:8080/",
          "height": 524
        },
        "outputId": "ca4031bc-7114-4750-9dd5-1ae475fc55e8"
      },
      "source": [
        "YouTubeVideo(width=896, height=504, id='him2Uy3Nn7Y')"
      ],
      "execution_count": null,
      "outputs": [
        {
          "output_type": "execute_result",
          "data": {
            "text/html": [
              "\n",
              "        <iframe\n",
              "            width=\"896\"\n",
              "            height=\"504\"\n",
              "            src=\"https://www.youtube.com/embed/him2Uy3Nn7Y\"\n",
              "            frameborder=\"0\"\n",
              "            allowfullscreen\n",
              "        ></iframe>\n",
              "        "
            ],
            "text/plain": [
              "<IPython.lib.display.YouTubeVideo at 0x7fecd53ec8d0>"
            ],
            "image/jpeg": "[encoded data removed]"
          },
          "metadata": {
            "tags": []
          },
          "execution_count": 11
        }
      ]
    },
    {
      "cell_type": "code",
      "metadata": {
        "id": "WnXp8Rk3k250",
        "colab_type": "code",
        "colab": {
          "base_uri": "https://localhost:8080/",
          "height": 230
        },
        "outputId": "53211e04-2c5c-4bde-c839-a8c5fc234cb2"
      },
      "source": [
        "gsql('''\n",
        "create vertex person (primary_id name string, name string, age int, \n",
        "                      gender string, state string)\n",
        "                      \n",
        "create undirected edge friendship (from person, to person, \n",
        "                                   connect_day datetime)\n",
        "\n",
        "create graph social (person, friendship)\n",
        "''', options=[])"
      ],
      "execution_count": null,
      "outputs": [
        {
          "output_type": "stream",
          "text": [
            "========================\n",
            "Trying version: v2_6_0\n",
            "Connecting to yaniv.i.tgcloud.io\n",
            "If there is any relative path, it is relative to tigergraph/dev/gdk/gsql\n",
            "The vertex type person is created.\n",
            "The edge type friendship is created.\n",
            "\n",
            "Restarting gse gpe restpp ...\n",
            "\n",
            "Finish restarting services in 10.435 seconds!\n",
            "The graph social is created.\n",
            "\n"
          ],
          "name": "stdout"
        }
      ]
    },
    {
      "cell_type": "markdown",
      "metadata": {
        "id": "niTmtAZRk253",
        "colab_type": "text"
      },
      "source": [
        "### Create data loading job and run it\n",
        "\n",
        "See [GSQL 101 - Module 2: Data Loading](https://youtu.be/IFfR3tQNhoA)"
      ]
    },
    {
      "cell_type": "code",
      "metadata": {
        "id": "CBTff_5Bk253",
        "colab_type": "code",
        "colab": {
          "base_uri": "https://localhost:8080/",
          "height": 524
        },
        "outputId": "5f69611c-cf2a-4f78-a5c8-d2e91c4df4bd"
      },
      "source": [
        "YouTubeVideo(width=896, height=504, id='IFfR3tQNhoA')"
      ],
      "execution_count": null,
      "outputs": [
        {
          "output_type": "execute_result",
          "data": {
            "text/html": [
              "\n",
              "        <iframe\n",
              "            width=\"896\"\n",
              "            height=\"504\"\n",
              "            src=\"https://www.youtube.com/embed/IFfR3tQNhoA\"\n",
              "            frameborder=\"0\"\n",
              "            allowfullscreen\n",
              "        ></iframe>\n",
              "        "
            ],
            "text/plain": [
              "<IPython.lib.display.YouTubeVideo at 0x7fecd5405b00>"
            ],
            "image/jpeg": "[encoded data removed]"
          },
          "metadata": {
            "tags": []
          },
          "execution_count": 13
        }
      ]
    },
    {
      "cell_type": "code",
      "metadata": {
        "id": "5R_BERhbk256",
        "colab_type": "code",
        "colab": {
          "base_uri": "https://localhost:8080/",
          "height": 570
        },
        "outputId": "44f74d85-a6f4-4dd3-a322-beb9abc272af"
      },
      "source": [
        "gsql('''\n",
        "create loading job load_social for graph social {\n",
        "    define filename file1=\"~/tigergraph/loadingData/person.csv\";\n",
        "    define filename file2=\"~/tigergraph/loadingData/friendship.csv\";\n",
        "    \n",
        "    load file1 to vertex person values ($\"name\", $\"name\", $\"age\", $\"gender\", $\"state\") \n",
        "       using header=\"true\", separator=\",\";\n",
        "    \n",
        "    load file2 to edge friendship values ($\"person1\", $\"person2\", $\"date\") \n",
        "       using header=\"true\", separator=\",\";   \n",
        "}\n",
        "\n",
        "run loading job load_social\n",
        "''')"
      ],
      "execution_count": null,
      "outputs": [
        {
          "output_type": "stream",
          "text": [
            "========================\n",
            "Trying version: v2_6_0\n",
            "Connecting to yaniv.i.tgcloud.io\n",
            "If there is any relative path, it is relative to tigergraph/dev/gdk/gsql\n",
            "The job load_social is created.\n",
            "[Tip: Use \"CTRL + C\" to stop displaying the loading status update, then use \"SHOW LOADING STATUS jobid\" to track the loading progress again]\n",
            "[Tip: Manage loading jobs with \"ABORT/RESUME LOADING JOB jobid\"]\n",
            "Starting the following job, i.e.\n",
            "  JobName: load_social, jobid: social.load_social.file.m1.1592831968705\n",
            "  Loading log: '/home/tigergraph/tigergraph/logs/restpp/restpp_loader_logs/social/social.load_social.file.m1.1592831968705.log'\n",
            "\n",
            "Job \"social.load_social.file.m1.1592831968705\" loading status\n",
            "[RUNNING] m1 ( Finished: 0 / Total: 2 )\n",
            "\u001b[2A\u001b[2KJob \"social.load_social.file.m1.1592831968705\" loading status\n",
            "\u001b[2K[RUNNING] m1 ( Finished: 2 / Total: 2 )\n",
            "  [LOADED]\n",
            "  +--------------------------------------------------------------------------------------------------+\n",
            "  |                                              FILENAME |   LOADED LINES |   AVG SPEED |   DURATION|\n",
            "  |    /home/tigergraph/tigergraph/loadingData/person.csv |              8 |       7 l/s |     1.00 s|\n",
            "  |/home/tigergraph/tigergraph/loadingData/friendship.csv |              8 |       7 l/s |     1.00 s|\n",
            "  +--------------------------------------------------------------------------------------------------+\n",
            "\u001b[8A\u001b[2KJob \"social.load_social.file.m1.1592831968705\" loading status\n",
            "\u001b[2K[FINISHED] m1 ( Finished: 2 / Total: 2 )\n",
            "\u001b[2K  [LOADED]\n",
            "\u001b[2K  +--------------------------------------------------------------------------------------------------+\n",
            "\u001b[2K  |                                              FILENAME |   LOADED LINES |   AVG SPEED |   DURATION|\n",
            "\u001b[2K  |/home/tigergraph/tigergraph/loadingData/friendship.csv |              8 |       7 l/s |     1.00 s|\n",
            "\u001b[2K  |    /home/tigergraph/tigergraph/loadingData/person.csv |              8 |       7 l/s |     1.00 s|\n",
            "\u001b[2K  +--------------------------------------------------------------------------------------------------+\n",
            "\n"
          ],
          "name": "stdout"
        }
      ]
    },
    {
      "cell_type": "code",
      "metadata": {
        "id": "mEeTnMuAk258",
        "colab_type": "code",
        "colab": {
          "base_uri": "https://localhost:8080/",
          "height": 498
        },
        "outputId": "2b532535-9969-447a-e063-68600608aa62"
      },
      "source": [
        "gsql('ls')"
      ],
      "execution_count": null,
      "outputs": [
        {
          "output_type": "stream",
          "text": [
            "========================\n",
            "Trying version: v2_6_0\n",
            "Connecting to yaniv.i.tgcloud.io\n",
            "If there is any relative path, it is relative to tigergraph/dev/gdk/gsql\n",
            "---- Graph social\n",
            "Vertex Types: \n",
            "  - VERTEX person(PRIMARY_ID name STRING, name STRING, age INT, gender STRING, state STRING) WITH STATS=\"OUTDEGREE_BY_EDGETYPE\"\n",
            "Edge Types: \n",
            "  - UNDIRECTED EDGE friendship(FROM person, TO person, connect_day DATETIME)\n",
            "\n",
            "Graphs: \n",
            "  - Graph social(person:v, friendship:e)\n",
            "Jobs: \n",
            "  - CREATE LOADING JOB load_social FOR GRAPH social {\n",
            "      DEFINE FILENAME file2 = \"~/tigergraph/loadingData/friendship.csv\";\n",
            "      DEFINE FILENAME file1 = \"~/tigergraph/loadingData/person.csv\";\n",
            "      LOAD file1 TO VERTEX person VALUES($\"name\", $\"name\", $\"age\", $\"gender\", $\"state\") USING SEPARATOR=\",\", HEADER=\"true\", EOL=\"\\n\";\n",
            "      LOAD file2 TO EDGE friendship VALUES($\"person1\", $\"person2\", $\"date\") USING SEPARATOR=\",\", HEADER=\"true\", EOL=\"\\n\";\n",
            "    }\n",
            "\n",
            "Queries: \n",
            "\n",
            "\n",
            "\n",
            "\n",
            "\n"
          ],
          "name": "stdout"
        }
      ]
    },
    {
      "cell_type": "markdown",
      "metadata": {
        "id": "qTGJn1rtk25-",
        "colab_type": "text"
      },
      "source": [
        "## Built-in `SELECT` queries\n",
        "\n",
        "See [GSQL 101 - Module 3: Graph Inspection Language](https://youtu.be/akGOSEWMC8I)"
      ]
    },
    {
      "cell_type": "code",
      "metadata": {
        "id": "wjbvGcj6k25-",
        "colab_type": "code",
        "colab": {
          "base_uri": "https://localhost:8080/",
          "height": 524
        },
        "outputId": "1a52db6a-d852-4ea8-edd6-31fb7fcc91e7"
      },
      "source": [
        "YouTubeVideo(width=896, height=504, id='akGOSEWMC8I')"
      ],
      "execution_count": null,
      "outputs": [
        {
          "output_type": "execute_result",
          "data": {
            "text/html": [
              "\n",
              "        <iframe\n",
              "            width=\"896\"\n",
              "            height=\"504\"\n",
              "            src=\"https://www.youtube.com/embed/akGOSEWMC8I\"\n",
              "            frameborder=\"0\"\n",
              "            allowfullscreen\n",
              "        ></iframe>\n",
              "        "
            ],
            "text/plain": [
              "<IPython.lib.display.YouTubeVideo at 0x7fecd53ec828>"
            ],
            "image/jpeg": "[encoded data removed]"
          },
          "metadata": {
            "tags": []
          },
          "execution_count": 16
        }
      ]
    },
    {
      "cell_type": "markdown",
      "metadata": {
        "id": "wx0MRs8Kk26B",
        "colab_type": "text"
      },
      "source": [
        "### `SELECT` queries return a native Python structure"
      ]
    },
    {
      "cell_type": "code",
      "metadata": {
        "id": "M__Kl68Zk26C",
        "colab_type": "code",
        "colab": {
          "base_uri": "https://localhost:8080/",
          "height": 34
        },
        "outputId": "f1d07518-92cd-416c-d32f-5f7abe35c38d"
      },
      "source": [
        "q = gsql('select count(*) from person')\n",
        "q"
      ],
      "execution_count": null,
      "outputs": [
        {
          "output_type": "execute_result",
          "data": {
            "text/plain": [
              "[{'count': 7, 'v_type': 'person'}]"
            ]
          },
          "metadata": {
            "tags": []
          },
          "execution_count": 17
        }
      ]
    },
    {
      "cell_type": "code",
      "metadata": {
        "id": "R5iaq0gdk26E",
        "colab_type": "code",
        "colab": {
          "base_uri": "https://localhost:8080/",
          "height": 34
        },
        "outputId": "d0fefef6-9c8f-477d-f404-11ba989101ec"
      },
      "source": [
        "q[0]['count']"
      ],
      "execution_count": null,
      "outputs": [
        {
          "output_type": "execute_result",
          "data": {
            "text/plain": [
              "7"
            ]
          },
          "metadata": {
            "tags": []
          },
          "execution_count": 18
        }
      ]
    },
    {
      "cell_type": "markdown",
      "metadata": {
        "id": "Sh_2Onnnk26G",
        "colab_type": "text"
      },
      "source": [
        "### Since this is GSQL the `FROM` argument can be a pattern "
      ]
    },
    {
      "cell_type": "code",
      "metadata": {
        "id": "qkNRECjPk26G",
        "colab_type": "code",
        "colab": {
          "base_uri": "https://localhost:8080/",
          "height": 34
        },
        "outputId": "a3869eef-b369-4c94-c7f8-e97d4c8eda78"
      },
      "source": [
        "gsql('select count() from person-(friendship)-person')"
      ],
      "execution_count": null,
      "outputs": [
        {
          "output_type": "execute_result",
          "data": {
            "text/plain": [
              "[{'count': 7, 'e_type': 'friendship'}]"
            ]
          },
          "metadata": {
            "tags": []
          },
          "execution_count": 19
        }
      ]
    },
    {
      "cell_type": "markdown",
      "metadata": {
        "id": "0Wvn9K8gk26I",
        "colab_type": "text"
      },
      "source": [
        "### The `WHERE` arument is a filter on the `FROM` pattern"
      ]
    },
    {
      "cell_type": "code",
      "metadata": {
        "id": "UaHPmzxnk26I",
        "colab_type": "code",
        "colab": {
          "base_uri": "https://localhost:8080/",
          "height": 70
        },
        "outputId": "eb396707-68b4-4370-860f-d6974c8265e5"
      },
      "source": [
        "gsql('select * from person where primary_id==\"Tom\"')"
      ],
      "execution_count": null,
      "outputs": [
        {
          "output_type": "execute_result",
          "data": {
            "text/plain": [
              "[{'attributes': {'age': 40, 'gender': 'male', 'name': 'Tom', 'state': 'ca'},\n",
              "  'v_id': 'Tom',\n",
              "  'v_type': 'person'}]"
            ]
          },
          "metadata": {
            "tags": []
          },
          "execution_count": 20
        }
      ]
    },
    {
      "cell_type": "code",
      "metadata": {
        "id": "lhamhuYZk26K",
        "colab_type": "code",
        "colab": {
          "base_uri": "https://localhost:8080/",
          "height": 336
        },
        "outputId": "1d16f97b-1b2c-41c0-f731-63294931c96e"
      },
      "source": [
        "q = gsql('select * from person where gender==\"female\"')\n",
        "q "
      ],
      "execution_count": null,
      "outputs": [
        {
          "output_type": "execute_result",
          "data": {
            "text/plain": [
              "[{'attributes': {'age': 20,\n",
              "   'gender': 'female',\n",
              "   'name': 'Nancy',\n",
              "   'state': 'ky'},\n",
              "  'v_id': 'Nancy',\n",
              "  'v_type': 'person'},\n",
              " {'attributes': {'age': 25,\n",
              "   'gender': 'female',\n",
              "   'name': 'Jenny',\n",
              "   'state': 'tx'},\n",
              "  'v_id': 'Jenny',\n",
              "  'v_type': 'person'},\n",
              " {'attributes': {'age': 22,\n",
              "   'gender': 'female',\n",
              "   'name': 'Amily',\n",
              "   'state': 'ca'},\n",
              "  'v_id': 'Amily',\n",
              "  'v_type': 'person'}]"
            ]
          },
          "metadata": {
            "tags": []
          },
          "execution_count": 21
        }
      ]
    },
    {
      "cell_type": "markdown",
      "metadata": {
        "id": "zfkvOYvvk26M",
        "colab_type": "text"
      },
      "source": [
        "### Use Python's list comprehension to access results"
      ]
    },
    {
      "cell_type": "code",
      "metadata": {
        "id": "TWhJgIsRk26N",
        "colab_type": "code",
        "colab": {
          "base_uri": "https://localhost:8080/",
          "height": 34
        },
        "outputId": "99d90ad4-3761-417c-c102-2e19c260b7e1"
      },
      "source": [
        "[v['attributes']['age'] for v in q]"
      ],
      "execution_count": null,
      "outputs": [
        {
          "output_type": "execute_result",
          "data": {
            "text/plain": [
              "[20, 25, 22]"
            ]
          },
          "metadata": {
            "tags": []
          },
          "execution_count": 22
        }
      ]
    },
    {
      "cell_type": "markdown",
      "metadata": {
        "id": "BcIhLr6Qk26P",
        "colab_type": "text"
      },
      "source": [
        "### Transform into a Pandas DataFrame"
      ]
    },
    {
      "cell_type": "code",
      "metadata": {
        "id": "HKbzxmVPk26P",
        "colab_type": "code",
        "colab": {
          "base_uri": "https://localhost:8080/",
          "height": 137
        },
        "outputId": "14deeb94-64dc-413b-e062-11831bc58bf4"
      },
      "source": [
        "import pandas as pd\n",
        "\n",
        "pd.DataFrame([v['attributes'] for v in q])"
      ],
      "execution_count": null,
      "outputs": [
        {
          "output_type": "execute_result",
          "data": {
            "text/html": [
              "<div>\n",
              "<style scoped>\n",
              "    .dataframe tbody tr th:only-of-type {\n",
              "        vertical-align: middle;\n",
              "    }\n",
              "\n",
              "    .dataframe tbody tr th {\n",
              "        vertical-align: top;\n",
              "    }\n",
              "\n",
              "    .dataframe thead th {\n",
              "        text-align: right;\n",
              "    }\n",
              "</style>\n",
              "<table border=\"1\" class=\"dataframe\">\n",
              "  <thead>\n",
              "    <tr style=\"text-align: right;\">\n",
              "      <th></th>\n",
              "      <th>gender</th>\n",
              "      <th>name</th>\n",
              "      <th>state</th>\n",
              "      <th>age</th>\n",
              "    </tr>\n",
              "  </thead>\n",
              "  <tbody>\n",
              "    <tr>\n",
              "      <th>0</th>\n",
              "      <td>female</td>\n",
              "      <td>Nancy</td>\n",
              "      <td>ky</td>\n",
              "      <td>20</td>\n",
              "    </tr>\n",
              "    <tr>\n",
              "      <th>1</th>\n",
              "      <td>female</td>\n",
              "      <td>Jenny</td>\n",
              "      <td>tx</td>\n",
              "      <td>25</td>\n",
              "    </tr>\n",
              "    <tr>\n",
              "      <th>2</th>\n",
              "      <td>female</td>\n",
              "      <td>Amily</td>\n",
              "      <td>ca</td>\n",
              "      <td>22</td>\n",
              "    </tr>\n",
              "  </tbody>\n",
              "</table>\n",
              "</div>"
            ],
            "text/plain": [
              "   gender   name state  age\n",
              "0  female  Nancy    ky   20\n",
              "1  female  Jenny    tx   25\n",
              "2  female  Amily    ca   22"
            ]
          },
          "metadata": {
            "tags": []
          },
          "execution_count": 23
        }
      ]
    },
    {
      "cell_type": "markdown",
      "metadata": {
        "id": "dltnDFUsk26R",
        "colab_type": "text"
      },
      "source": [
        "## User defined queries\n",
        "\n",
        "See [GSQL 101 - Module 4: Basic GSQL](https://youtu.be/eK6f7qnylj0) "
      ]
    },
    {
      "cell_type": "code",
      "metadata": {
        "id": "5m_m_Xokk26S",
        "colab_type": "code",
        "colab": {
          "base_uri": "https://localhost:8080/",
          "height": 524
        },
        "outputId": "04fb5e71-928f-47a1-b739-4b03ed0fcf9f"
      },
      "source": [
        "YouTubeVideo(width=896, height=504, id='eK6f7qnylj0')"
      ],
      "execution_count": null,
      "outputs": [
        {
          "output_type": "execute_result",
          "data": {
            "text/html": [
              "\n",
              "        <iframe\n",
              "            width=\"896\"\n",
              "            height=\"504\"\n",
              "            src=\"https://www.youtube.com/embed/eK6f7qnylj0\"\n",
              "            frameborder=\"0\"\n",
              "            allowfullscreen\n",
              "        ></iframe>\n",
              "        "
            ],
            "text/plain": [
              "<IPython.lib.display.YouTubeVideo at 0x7fecd4f6c0b8>"
            ],
            "image/jpeg": "[encoded data removed]"
          },
          "metadata": {
            "tags": []
          },
          "execution_count": 24
        }
      ]
    },
    {
      "cell_type": "markdown",
      "metadata": {
        "id": "1Ar5YgeHk26U",
        "colab_type": "text"
      },
      "source": [
        "### Queries can saved and compiled"
      ]
    },
    {
      "cell_type": "code",
      "metadata": {
        "id": "b1O5KwW2k26U",
        "colab_type": "code",
        "colab": {
          "base_uri": "https://localhost:8080/",
          "height": 214
        },
        "outputId": "86d8f381-e7eb-47c1-9f83-f3c0f7346df7"
      },
      "source": [
        "gsql('''\n",
        "create query hello(vertex<person> p) for graph social{\n",
        "    \n",
        "    start = {p};\n",
        "    tgt = select t from start:s-(friendship:e)-person:t ;\n",
        "    print tgt;\n",
        "}\n",
        "\n",
        "install query hello\n",
        "''')"
      ],
      "execution_count": null,
      "outputs": [
        {
          "output_type": "stream",
          "text": [
            "========================\n",
            "Trying version: v2_6_0\n",
            "Connecting to yaniv.i.tgcloud.io\n",
            "If there is any relative path, it is relative to tigergraph/dev/gdk/gsql\n",
            "The query hello has been added!\n",
            "Start installing queries, about 1 minute ...\n",
            "hello query: curl -X GET 'https://127.0.0.1:9000/query/social/hello?p=VALUE'. Add -H \"Authorization: Bearer TOKEN\" if authentication is enabled.\n",
            "\n",
            "\r[                                                                 ] 0% (0/1)   \r[                                                                 ] 0% (0/1)   \r[=====                                                            ] 7% (0/1)   \r[==========                                                       ] 14% (0/1)  \r[==============                                                   ] 21% (0/1)  \r[===================                                              ] 29% (0/1)  \r[========================                                         ] 36% (0/1)  \r[============================                                     ] 43% (0/1)  \r[==================================                               ] 51% (0/1)  \r[======================================                           ] 58% (0/1)  \r[===========================================                      ] 65% (0/1)  \r[================================================                 ] 73% (0/1)  \r[====================================================             ] 80% (0/1)  \r[=========================================================        ] 87% (0/1)  \r[==============================================================   ] 95% (0/1)  \r[=================================================================] 100% (1/1) \n",
            "\n"
          ],
          "name": "stdout"
        }
      ]
    },
    {
      "cell_type": "markdown",
      "metadata": {
        "id": "VrsdwA0Dk26W",
        "colab_type": "text"
      },
      "source": [
        "### Run the installed query and process the output"
      ]
    },
    {
      "cell_type": "code",
      "metadata": {
        "id": "uyirQnElk26X",
        "colab_type": "code",
        "colab": {
          "base_uri": "https://localhost:8080/",
          "height": 283
        },
        "outputId": "ee2db73f-dea9-4856-a2d3-6fc1cf5a2d67"
      },
      "source": [
        "q = gsql('run query hello(\"Tom\")')\n",
        "q"
      ],
      "execution_count": null,
      "outputs": [
        {
          "output_type": "execute_result",
          "data": {
            "text/plain": [
              "{'error': False,\n",
              " 'message': '',\n",
              " 'results': [{'tgt': [{'attributes': {'age': 34,\n",
              "      'gender': 'male',\n",
              "      'name': 'Dan',\n",
              "      'state': 'ny'},\n",
              "     'v_id': 'Dan',\n",
              "     'v_type': 'person'},\n",
              "    {'attributes': {'age': 25,\n",
              "      'gender': 'female',\n",
              "      'name': 'Jenny',\n",
              "      'state': 'tx'},\n",
              "     'v_id': 'Jenny',\n",
              "     'v_type': 'person'}]}],\n",
              " 'version': {'api': 'v2', 'edition': 'enterprise', 'schema': 0}}"
            ]
          },
          "metadata": {
            "tags": []
          },
          "execution_count": 26
        }
      ]
    },
    {
      "cell_type": "code",
      "metadata": {
        "id": "S8tErLGJk26Z",
        "colab_type": "code",
        "colab": {
          "base_uri": "https://localhost:8080/",
          "height": 34
        },
        "outputId": "06d7b33f-5e22-412a-8aa9-43525f237d8a"
      },
      "source": [
        "[v['attributes']['age'] for v in q['results'][0]['tgt']]"
      ],
      "execution_count": null,
      "outputs": [
        {
          "output_type": "execute_result",
          "data": {
            "text/plain": [
              "[34, 25]"
            ]
          },
          "metadata": {
            "tags": []
          },
          "execution_count": 27
        }
      ]
    },
    {
      "cell_type": "markdown",
      "metadata": {
        "id": "UjDxbelBk26a",
        "colab_type": "text"
      },
      "source": [
        "## Accumulators\n",
        "\n",
        "See [GSQL 101 - Module 5: Advanced GSQL (Accumulators)](https://youtu.be/ysrm9OjVoqg)"
      ]
    },
    {
      "cell_type": "code",
      "metadata": {
        "id": "caiDj6zak26b",
        "colab_type": "code",
        "colab": {
          "base_uri": "https://localhost:8080/",
          "height": 524
        },
        "outputId": "1f8ab16e-a519-48dd-e0c3-10a0ddd16ce2"
      },
      "source": [
        "YouTubeVideo(width=896, height=504, id='ysrm9OjVoqg')"
      ],
      "execution_count": null,
      "outputs": [
        {
          "output_type": "execute_result",
          "data": {
            "text/html": [
              "\n",
              "        <iframe\n",
              "            width=\"896\"\n",
              "            height=\"504\"\n",
              "            src=\"https://www.youtube.com/embed/ysrm9OjVoqg\"\n",
              "            frameborder=\"0\"\n",
              "            allowfullscreen\n",
              "        ></iframe>\n",
              "        "
            ],
            "text/plain": [
              "<IPython.lib.display.YouTubeVideo at 0x7fecd4f20fd0>"
            ],
            "image/jpeg": "[encoded data removed]"
          },
          "metadata": {
            "tags": []
          },
          "execution_count": 28
        }
      ]
    },
    {
      "cell_type": "markdown",
      "metadata": {
        "id": "RVlq42Mqk26d",
        "colab_type": "text"
      },
      "source": [
        "### Measuring hop distance\n",
        "\n",
        "Measuring hop distance requires that we flag every vertex we visit using a local accumulator `@visited`."
      ]
    },
    {
      "cell_type": "code",
      "metadata": {
        "id": "Apiirk4Ek26e",
        "colab_type": "code",
        "colab": {
          "base_uri": "https://localhost:8080/",
          "height": 214
        },
        "outputId": "e9aff89b-ff9a-4a1b-b67f-fdece75dd428"
      },
      "source": [
        "gsql('''\n",
        "create query hello2(vertex<person> p) for graph social {\n",
        "    \n",
        "    OrAccum @visited = false;\n",
        "    AvgAccum @@aveAge;\n",
        "    \n",
        "    start = {p};\n",
        "    \n",
        "    firstHop = select t from start:s-(friendship:e)-person:t\n",
        "               accum t.@visited += true, s.@visited += true;\n",
        "    \n",
        "    secondHop = select t from firstHop:s-(friendship:e)-person:t\n",
        "                where t.@visited == false\n",
        "                post_accum @@aveAge += t.age;\n",
        "    \n",
        "    print secondHop;\n",
        "    print @@aveAge;\n",
        "            \n",
        "}\n",
        "\n",
        "install query hello2\n",
        "''')"
      ],
      "execution_count": null,
      "outputs": [
        {
          "output_type": "stream",
          "text": [
            "========================\n",
            "Trying version: v2_6_0\n",
            "Connecting to yaniv.i.tgcloud.io\n",
            "If there is any relative path, it is relative to tigergraph/dev/gdk/gsql\n",
            "The query hello2 has been added!\n",
            "Start installing queries, about 1 minute ...\n",
            "hello2 query: curl -X GET 'https://127.0.0.1:9000/query/social/hello2?p=VALUE'. Add -H \"Authorization: Bearer TOKEN\" if authentication is enabled.\n",
            "\n",
            "\r[                                                                 ] 0% (0/1)   \r[                                                                 ] 0% (0/1)   \r[===============================                                  ] 47% (0/1)  \r[==============================================================   ] 95% (0/1)  \r[=================================================================] 100% (1/1) \n",
            "\n"
          ],
          "name": "stdout"
        }
      ]
    },
    {
      "cell_type": "markdown",
      "metadata": {
        "id": "J40rT1E8k26g",
        "colab_type": "text"
      },
      "source": [
        "### Excluding visited verticies\n",
        "Results exclude Jenny and Dan even though they are a friend of a friend of Tom because they are also direct friends of Tom"
      ]
    },
    {
      "cell_type": "code",
      "metadata": {
        "id": "sVADKVwHk26g",
        "colab_type": "code",
        "colab": {
          "base_uri": "https://localhost:8080/",
          "height": 461
        },
        "outputId": "9aca81ef-620d-40aa-ea90-070415cd8b4e"
      },
      "source": [
        "q = gsql('run query hello2(\"Tom\")')\n",
        "q"
      ],
      "execution_count": null,
      "outputs": [
        {
          "output_type": "execute_result",
          "data": {
            "text/plain": [
              "{'error': False,\n",
              " 'message': '',\n",
              " 'results': [{'secondHop': [{'attributes': {'@visited': False,\n",
              "      'age': 22,\n",
              "      'gender': 'female',\n",
              "      'name': 'Amily',\n",
              "      'state': 'ca'},\n",
              "     'v_id': 'Amily',\n",
              "     'v_type': 'person'},\n",
              "    {'attributes': {'@visited': False,\n",
              "      'age': 28,\n",
              "      'gender': 'male',\n",
              "      'name': 'Kevin',\n",
              "      'state': 'az'},\n",
              "     'v_id': 'Kevin',\n",
              "     'v_type': 'person'},\n",
              "    {'attributes': {'@visited': False,\n",
              "      'age': 20,\n",
              "      'gender': 'female',\n",
              "      'name': 'Nancy',\n",
              "      'state': 'ky'},\n",
              "     'v_id': 'Nancy',\n",
              "     'v_type': 'person'}]},\n",
              "  {'@@aveAge': 23.33333}],\n",
              " 'version': {'api': 'v2', 'edition': 'enterprise', 'schema': 0}}"
            ]
          },
          "metadata": {
            "tags": []
          },
          "execution_count": 30
        }
      ]
    },
    {
      "cell_type": "markdown",
      "metadata": {
        "id": "x7QSMNEZk26i",
        "colab_type": "text"
      },
      "source": [
        "### Global accumulators \n",
        "We can verify that the global accumulator `@@aveAge` did its job correctly."
      ]
    },
    {
      "cell_type": "code",
      "metadata": {
        "id": "e3oNJyK_k26i",
        "colab_type": "code",
        "colab": {
          "base_uri": "https://localhost:8080/",
          "height": 34
        },
        "outputId": "5b747b34-696a-4e55-9721-352f3228b3d6"
      },
      "source": [
        "q['results'][1]['@@aveAge']"
      ],
      "execution_count": null,
      "outputs": [
        {
          "output_type": "execute_result",
          "data": {
            "text/plain": [
              "23.33333"
            ]
          },
          "metadata": {
            "tags": []
          },
          "execution_count": 31
        }
      ]
    },
    {
      "cell_type": "code",
      "metadata": {
        "id": "sLP--BHdk26k",
        "colab_type": "code",
        "colab": {
          "base_uri": "https://localhost:8080/",
          "height": 34
        },
        "outputId": "1b5ff007-e086-41a0-bd8d-bca12adb8fd3"
      },
      "source": [
        "ages = [v['attributes']['age'] for v in q['results'][0]['secondHop']]\n",
        "ages"
      ],
      "execution_count": null,
      "outputs": [
        {
          "output_type": "execute_result",
          "data": {
            "text/plain": [
              "[22, 28, 20]"
            ]
          },
          "metadata": {
            "tags": []
          },
          "execution_count": 32
        }
      ]
    },
    {
      "cell_type": "code",
      "metadata": {
        "id": "uIL7cBgjk26n",
        "colab_type": "code",
        "colab": {
          "base_uri": "https://localhost:8080/",
          "height": 34
        },
        "outputId": "7c827340-7175-44cf-a94a-c62e6d259e79"
      },
      "source": [
        "sum(ages)/len(ages)"
      ],
      "execution_count": null,
      "outputs": [
        {
          "output_type": "execute_result",
          "data": {
            "text/plain": [
              "23.333333333333332"
            ]
          },
          "metadata": {
            "tags": []
          },
          "execution_count": 33
        }
      ]
    },
    {
      "cell_type": "code",
      "metadata": {
        "id": "K7mdfbb-k26p",
        "colab_type": "code",
        "colab": {}
      },
      "source": [
        ""
      ],
      "execution_count": null,
      "outputs": []
    }
  ]
}
